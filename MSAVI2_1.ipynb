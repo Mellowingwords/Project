{
 "cells": [
  {
   "cell_type": "code",
   "execution_count": 9,
   "metadata": {},
   "outputs": [],
   "source": [
    "#Importing python library and package\n",
    "import ee\n",
    "import geemap"
   ]
  },
  {
   "cell_type": "code",
   "execution_count": 10,
   "metadata": {},
   "outputs": [],
   "source": [
    "#Add a google map using geemap package\n",
    "Map = geemap.Map()\n",
    "#Upload the landsat-8 satellite image directly\n",
    "sat_img = ee.ImageCollection(\"LANDSAT/LC08/C01/T1\")\n",
    "# Map.addLayer(sat_img)\n",
    "# Map"
   ]
  },
  {
   "cell_type": "code",
   "execution_count": 11,
   "metadata": {},
   "outputs": [],
   "source": [
    "#Set variables to add the geometries to the map using given coordinates for the 3 given locations\n",
    "poly1 = ee.Geometry.Polygon([[\n",
    "\n",
    "  [75.45157492160797,30.634404129904425],\n",
    "  [75.4524278640747,30.63372099804389],\n",
    "  [75.45236885547638,30.634399514164798],\n",
    "  [75.45157492160797,30.634404129904425]\n",
    "\n",
    "  ]] )\n",
    "\n",
    "poly2 = ee.Geometry.Polygon([[\n",
    "\n",
    "[85.85622847080231,26.09425078918021],\n",
    "[85.85590660572052,26.093581136401006],\n",
    "[85.85663080215454,26.09337879451938 ],\n",
    "[85.85686147212981,26.094009907326967],\n",
    "[85.85622847080231,26.09425078918021]\n",
    "\n",
    "  ]] )\n",
    "\n",
    "poly3 = ee.Geometry.Polygon([[\n",
    "\n",
    "[78.66571158170699,17.66869116558751],\n",
    "[78.6662346124649,17.6686911655875],\n",
    "[78.6662346124649,17.66929686130703],\n",
    "[78.66571158170699,17.66929686130703],\n",
    "[78.66571158170699,17.66869116558751]\n",
    "\n",
    "  ]] )"
   ]
  },
  {
   "cell_type": "code",
   "execution_count": 12,
   "metadata": {},
   "outputs": [],
   "source": [
    "#set the zoom level of the map to a certain extent\n",
    "Map.centerObject(poly1,15)\n",
    "Map.addLayer(poly1)\n",
    "\n",
    "Map.centerObject(poly2,15)\n",
    "Map.addLayer(poly2)\n",
    "\n",
    "Map.centerObject(poly3,15)\n",
    "Map.addLayer(poly3)"
   ]
  },
  {
   "cell_type": "code",
   "execution_count": 13,
   "metadata": {},
   "outputs": [],
   "source": [
    "#set a function for cloud removal task\n",
    "def maskClouds(image):\n",
    "    cloudShadowBitMask = ee.Number(2).pow(3).int() # # Bits 3 and 5 are cloud shadow and cloud, respectively.\n",
    "    cloudsBitMask = ee.Number(2).pow(5).int()\n",
    "    \n",
    "    # # Get the pixel QA band.\n",
    "    qa = image.select('pixel_qa')\n",
    "    \n",
    "    # # Both flags should be set to zero, indicating clear conditions.\n",
    "    mask = qa.bitwiseAnd(cloudShadowBitMask).eq(0).And(qa.bitwiseAnd(cloudsBitMask).eq(0))\n",
    "    \n",
    "    # # Return the masked image, scaled to [0, 1].    \n",
    "    return image.updateMask(mask).divide(10000).copyProperties(image, [\"system:time_start\"])"
   ]
  },
  {
   "cell_type": "code",
   "execution_count": 14,
   "metadata": {},
   "outputs": [],
   "source": [
    "#set a function with formula to calculate MSAVI using specific bands\n",
    "def addMSAVI2(image):\n",
    "    msavi = image.expression(\n",
    "    '(2 * NIR + 1 - sqrt(pow((2 * NIR + 1), 2) - 8 * (NIR - RED)) ) / 2',\n",
    "    {\n",
    "      'NIR': image.select('B5'),\n",
    "      'RED': image.select('B4')\n",
    "    }\n",
    "    ).rename('MSAVI')\n",
    "    return image.addBands(msavi)"
   ]
  },
  {
   "cell_type": "code",
   "execution_count": 8,
   "metadata": {},
   "outputs": [
    {
     "data": {
      "application/vnd.jupyter.widget-view+json": {
       "model_id": "40614285780548fda434fa002df18d73",
       "version_major": 2,
       "version_minor": 0
      },
      "text/plain": [
       "Map(center=[17.668994012620722, 78.66597309767776], controls=(WidgetControl(options=['position', 'transparent_…"
      ]
     },
     "metadata": {},
     "output_type": "display_data"
    }
   ],
   "source": [
    "#set the dates and the conditions to visualise the chart results for 3 specific locations\n",
    "startDate ='2019-01-01'\n",
    "endDate ='2020-06-30'\n",
    "\n",
    "msavi_poly1 = sat_img.filterDate(startDate,endDate) \\\n",
    "    .filterBounds(poly1) \\\n",
    "    .map(addMSAVI2)\n",
    "#     .map(maskClouds) \\\n",
    "# print(msavi_poly1)\n",
    "Map.addLayer(msavi_poly1)\n",
    "\n",
    "msavi_poly2 = sat_img.filterDate(startDate,endDate) \\\n",
    "    .filterBounds(poly2) \\\n",
    "    .map(addMSAVI2)\n",
    "#     .map(maskClouds) \\\n",
    "# print(msavi_poly2)\n",
    "Map.addLayer(msavi_poly2)\n",
    "\n",
    "msavi_poly3 = sat_img.filterDate(startDate,endDate) \\\n",
    "    .filterBounds(poly3) \\\n",
    "    .map(addMSAVI2)\n",
    "#     .map(maskClouds) \\\n",
    "# print(msavi_poly3)\n",
    "Map.addLayer(msavi_poly3)\n",
    "Map"
   ]
  },
  {
   "cell_type": "code",
   "execution_count": 18,
   "metadata": {},
   "outputs": [
    {
     "ename": "SyntaxError",
     "evalue": "invalid syntax (Temp/ipykernel_3212/3164870563.py, line 14)",
     "output_type": "error",
     "traceback": [
      "\u001b[1;36m  File \u001b[1;32m\"C:\\Users\\Partha\\AppData\\Local\\Temp/ipykernel_3212/3164870563.py\"\u001b[1;36m, line \u001b[1;32m14\u001b[0m\n\u001b[1;33m    'lineWidth': 5,\u001b[0m\n\u001b[1;37m    ^\u001b[0m\n\u001b[1;31mSyntaxError\u001b[0m\u001b[1;31m:\u001b[0m invalid syntax\n"
     ]
    }
   ],
   "source": [
    "#prepare a chart for 1st place/location\n",
    "\n",
    "place1 = ui.Chart.image.seriesByRegion({\n",
    "    'imageCollection': msavi2_2,\n",
    "    'band': 'MSAVI',\n",
    "    'regions': poly1,\n",
    "    'reducer': ee.Reducer.mean(),\n",
    "    'scale': 30,\n",
    "    'seriesProperty': 'label',\n",
    "    'xProperty': 'system:time_start'}).setChartType('LineChart').setOptions({\n",
    "    'title': 'MSAVI2 Time Series Map for poly1 ',\n",
    "    'hAxis': {'title': 'Date', 'titleTextStyle': {'italic': False, 'bold': True}},\n",
    "    'vAxis': {'title': 'MSAVI2 Value ranges', 'titleTextStyle': {'italic': False, 'bold': True}}\n",
    "    'lineWidth': 5,\n",
    "    'colors': ['f0af07', '0f8755', '76b349']})\n",
    "print(place1)"
   ]
  },
  {
   "cell_type": "code",
   "execution_count": null,
   "metadata": {},
   "outputs": [],
   "source": [
    "#prepare a chart for 2nd place/location\n",
    "place_2 =\n",
    "ui.Chart.image.seriesByRegion({\n",
    "    'imageCollection': msavi2_2,\n",
    "    'band': 'MSAVI',\n",
    "    'regions': poly2,\n",
    "    'reducer': ee.Reducer.mean(),\n",
    "    'scale': 30,\n",
    "    'seriesProperty': 'label',\n",
    "    'xProperty': 'system:time_start'}).setChartType('LineChart').setOptions({\n",
    "    'title': 'MSAVI2 Time Series Map for poly2 ',\n",
    "    'hAxis': {'title': 'Date', 'titleTextStyle': {'italic': False, 'bold': True}},\n",
    "    'vAxis': {'title': 'MSAVI2 Value ranges', 'titleTextStyle': {'italic': False, 'bold': True}}\n",
    "    'lineWidth': 5,\n",
    "    'colors': ['f0af07', '0f8755', '76b349']})\n",
    "print(place_2)\n"
   ]
  },
  {
   "cell_type": "code",
   "execution_count": 15,
   "metadata": {},
   "outputs": [
    {
     "ename": "SyntaxError",
     "evalue": "invalid syntax (Temp/ipykernel_8352/2086301036.py, line 2)",
     "output_type": "error",
     "traceback": [
      "\u001b[1;36m  File \u001b[1;32m\"C:\\Users\\Partha\\AppData\\Local\\Temp/ipykernel_8352/2086301036.py\"\u001b[1;36m, line \u001b[1;32m2\u001b[0m\n\u001b[1;33m    place_3 =\u001b[0m\n\u001b[1;37m             ^\u001b[0m\n\u001b[1;31mSyntaxError\u001b[0m\u001b[1;31m:\u001b[0m invalid syntax\n"
     ]
    }
   ],
   "source": [
    "#prepare a chart for 3rd place/location\n",
    "place_3 =\n",
    "ui.Chart.image.seriesByRegion({\n",
    "    'imageCollection': msavi2_2,\n",
    "    'band': 'MSAVI',\n",
    "    'regions': poly3,\n",
    "    'reducer': ee.Reducer.mean(),\n",
    "    'scale': 30,\n",
    "    'seriesProperty': 'label',\n",
    "    'xProperty': 'system:time_start'}).setChartType('LineChart').setOptions({\n",
    "    'title': 'MSAVI2 Time Series Map for poly3 ',\n",
    "    'hAxis': {'title': 'Date', 'titleTextStyle': {'italic': False, 'bold': True}},\n",
    "    'vAxis': {'title': 'MSAVI2 Value ranges', 'titleTextStyle': {'italic': False, 'bold': True}}\n",
    "    'lineWidth': 5,\n",
    "    'colors': ['f0af07', '0f8755', '76b349']})\n",
    "print(place_3)"
   ]
  },
  {
   "cell_type": "code",
   "execution_count": null,
   "metadata": {},
   "outputs": [],
   "source": []
  }
 ],
 "metadata": {
  "kernelspec": {
   "display_name": "Python 3 (ipykernel)",
   "language": "python",
   "name": "python3"
  },
  "language_info": {
   "codemirror_mode": {
    "name": "ipython",
    "version": 3
   },
   "file_extension": ".py",
   "mimetype": "text/x-python",
   "name": "python",
   "nbconvert_exporter": "python",
   "pygments_lexer": "ipython3",
   "version": "3.8.10"
  }
 },
 "nbformat": 4,
 "nbformat_minor": 2
}
